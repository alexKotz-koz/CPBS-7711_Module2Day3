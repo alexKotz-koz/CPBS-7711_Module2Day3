{
 "cells": [
  {
   "cell_type": "code",
   "execution_count": null,
   "metadata": {},
   "outputs": [],
   "source": [
    "import random\n",
    "import json\n"
   ]
  },
  {
   "cell_type": "code",
   "execution_count": null,
   "metadata": {},
   "outputs": [],
   "source": [
    "def fanconi_anemia_genes(inputFile):\n",
    "    faData = []\n",
    "    faGenes = []\n",
    "    with open(inputFile, \"r\") as file:\n",
    "        faData = [row.strip().split(\"\\t\")[2:] for row in file]\n",
    "    for row in faData:\n",
    "        faGenes.extend(row)\n",
    "    return faGenes\n"
   ]
  },
  {
   "cell_type": "code",
   "execution_count": null,
   "metadata": {},
   "outputs": [],
   "source": [
    "def create_loci(inputFile):\n",
    "    faGenes = dict()\n",
    "    with open(inputFile) as file:\n",
    "        listFaGenes = [row.split(\"\\t\") for row in file]\n",
    "\n",
    "        for row in listFaGenes:\n",
    "            key = row[0][-2:].strip()\n",
    "            genes = row[2:]\n",
    "            genes = [gene.strip() for gene in genes]\n",
    "            faGenes.update({key: {\"genes\": genes}})\n",
    "\n",
    "    return faGenes"
   ]
  },
  {
   "cell_type": "code",
   "execution_count": null,
   "metadata": {},
   "outputs": [],
   "source": [
    "def extract_fa_genes(prevFaSubnetworkFile):\n",
    "    module1FASubnetwork = []\n",
    "    with open(prevFaSubnetworkFile, \"r\") as file:\n",
    "        for row in file:\n",
    "            row = row.split(\"\\t\")\n",
    "            row[2] = row[2].strip()\n",
    "            module1FASubnetwork.append(row)\n",
    "    return module1FASubnetwork"
   ]
  }
 ],
 "metadata": {
  "language_info": {
   "name": "python"
  }
 },
 "nbformat": 4,
 "nbformat_minor": 2
}
